{
 "cells": [
  {
   "cell_type": "markdown",
   "metadata": {},
   "source": [
    "Jack Nealon and Ryder Gallagher  \n",
    "CPSC 222 - Dr. Gina Sprint - Gonzaga University  \n",
    "12/6/2022\n",
    "\n",
    "# Quantified Group Project - Music Streaming \n",
    "In this report, we are going to analyze my Spotify streaming data for the past year and calculate statistics depending on the information provided by Spotify. Included in this report, we are able to read in the history, clean it by replacing missing values, categorizing information, and adding additional supplemental information. From this we are then able to calcuate our statistcs and present them visually using tables and graphs.\n",
    "1. Load the data\n",
    "2. Clean the data\n",
    "3. Visualize the data"
   ]
  },
  {
   "cell_type": "markdown",
   "metadata": {},
   "source": [
    "### 1. Load the Data"
   ]
  },
  {
   "cell_type": "code",
   "execution_count": 1,
   "metadata": {},
   "outputs": [],
   "source": [
    "#import utils\n",
    "import pandas as pd\n",
    "import numpy as np\n",
    "import matplotlib.pyplot as plt\n",
    "\n",
    "#Read in the raw, unprocessed data into a pandas dataframe\n",
    "temp1_df = pd.read_json(\"JackStreamHist1.json\")\n",
    "temp2_df = pd.read_json(\"JackStreamHist2.json\")\n",
    "jack_df = pd.concat([temp1_df, temp2_df], ignore_index=True)"
   ]
  },
  {
   "cell_type": "markdown",
   "metadata": {},
   "source": [
    "Information Collected Includes:\n",
    "1. Date and Time (string)\n",
    "1. Artist (string)\n",
    "1. Track Name (string)\n",
    "1. Minutes Played (integer)"
   ]
  },
  {
   "cell_type": "markdown",
   "metadata": {},
   "source": [
    "### 2. Clean the Data"
   ]
  },
  {
   "cell_type": "code",
   "execution_count": 2,
   "metadata": {},
   "outputs": [
    {
     "name": "stdout",
     "output_type": "stream",
     "text": [
      "                        artistName  \\\n",
      "0                            ASKII   \n",
      "1      Raiders Of The Lost Podcast   \n",
      "2                            Sueco   \n",
      "3                     All Time Low   \n",
      "4                      $uicideboy$   \n",
      "...                            ...   \n",
      "12612                   Piff Marti   \n",
      "12613                 Double A-Ron   \n",
      "12614                 Sick Puppies   \n",
      "12615                   PawPaw Rod   \n",
      "12616                    Joey Trap   \n",
      "\n",
      "                                               trackName  msPlayed   Time  \\\n",
      "0                                             Aurora Sky    20.695  20:01   \n",
      "1                              TENET - Review & Analysis  1719.345  11:06   \n",
      "2                                              Paralyzed   162.805  07:57   \n",
      "3                             Monsters (feat. blackbear)   174.067  08:00   \n",
      "4      ...And to Those I Love, Thanks for Sticking Ar...   168.489  08:03   \n",
      "...                                                  ...       ...    ...   \n",
      "12612                                      Free Yourself   134.315  21:03   \n",
      "12613                                         Mr.Popular   113.846  21:05   \n",
      "12614                                           Gunfight   175.720  21:08   \n",
      "12615                                          Lemonhaze   156.478  21:11   \n",
      "12616                                       PURPLE TAKIS    45.681  21:11   \n",
      "\n",
      "       Year Month Day  \n",
      "0      2021    08  13  \n",
      "1      2021    10  05  \n",
      "2      2021    10  06  \n",
      "3      2021    10  06  \n",
      "4      2021    10  06  \n",
      "...     ...   ...  ..  \n",
      "12612  2022    10  06  \n",
      "12613  2022    10  06  \n",
      "12614  2022    10  06  \n",
      "12615  2022    10  06  \n",
      "12616  2022    10  06  \n",
      "\n",
      "[12617 rows x 7 columns]\n"
     ]
    }
   ],
   "source": [
    "jack_df.fillna(np.nan, inplace=True)\n",
    "jack_df[['Date','Time']] = jack_df.endTime.str.split(expand=True)\n",
    "jack_df = jack_df.drop('endTime', axis=1)\n",
    "jack_df['msPlayed'] = jack_df['msPlayed'] / 1000\n",
    "jack_df[['Year','Month','Day']] = jack_df.Date.str.split(pat='-', expand=True)\n",
    "jack_df = jack_df.drop('Date', axis=1)\n",
    "print(jack_df)"
   ]
  },
  {
   "cell_type": "markdown",
   "metadata": {},
   "source": [
    "What are we cleaning: \n",
    "1. Splitting columns with multiple values into separate columns (and deleting the combined column we extracted values from)\n",
    "1. Filling all missing values with the np.nan value\n",
    "1. Converting values to more understandable units\n",
    "\n",
    "Information Collected after cleaning:\n",
    "1. Date (string)\n",
    "1. Time (string)\n",
    "1. Artist (string)\n",
    "1. Track Name (string)\n",
    "1. Seconds Played (float)"
   ]
  },
  {
   "cell_type": "markdown",
   "metadata": {},
   "source": [
    "### 3. Aggregate the data and compute summary statistics"
   ]
  },
  {
   "cell_type": "code",
   "execution_count": 5,
   "metadata": {},
   "outputs": [
    {
     "data": {
      "image/png": "[encoded data removed]",
      "text/plain": [
       "<Figure size 432x288 with 1 Axes>"
      ]
     },
     "metadata": {
      "needs_background": "light"
     },
     "output_type": "display_data"
    }
   ],
   "source": [
    "month_df = jack_df[\"Month\"].value_counts(sort=False)\n",
    "plt.scatter(month_df.index, month_df)\n",
    "plt.xticks(ha=\"right\", rotation=45)\n",
    "plt.title(\"Total Daily Plays\")\n",
    "plt.xlabel(\"Date\")\n",
    "plt.ylabel(\"Number of Songs Played\")\n",
    "plt.tight_layout()"
   ]
  },
  {
   "cell_type": "markdown",
   "metadata": {},
   "source": [
    "This graph shows the total number of songs/podcast plays ranging from the beginning of my data (August 2021) to the end of my data (September 2022). Its interesting because I see the trend of listening to a lot of music from december to january and february before slowly stopping listening to as much music. My music habits then drop after april 2022 and slowly increasing from there. Its pretty cool becaue November 2021 was when I switched from the Silver Falls Brewery to The Noble Fox. We can see that I learned without music before taking over and running on autopilot before my leave at around april. I can see what I was doing and can correlate it to my real-life events :D.  "
   ]
  },
  {
   "cell_type": "code",
   "execution_count": null,
   "metadata": {},
   "outputs": [
    {
     "data": {
      "image/png": "[encoded data removed]",
      "text/plain": [
       "<Figure size 432x288 with 1 Axes>"
      ]
     },
     "metadata": {
      "needs_background": "light"
     },
     "output_type": "display_data"
    }
   ],
   "source": [
    "#BAR GRAPH - my graph that isnt scatter/line/histogram\n",
    "artists_df = jack_df[\"artistName\"].value_counts()\n",
    "plt.bar(artists_df.index[0:24], artists_df[0:24])\n",
    "plt.xticks(rotation=45, ha=\"right\")\n",
    "plt.title(\"Artist's total songs played\")\n",
    "plt.xlabel(\"Artist\")\n",
    "plt.ylabel(\"Times Played\")\n",
    "plt.tight_layout()"
   ]
  },
  {
   "cell_type": "markdown",
   "metadata": {},
   "source": [
    "Yo, I didnt know how much Hollywood undead I listened to... dang. I didnt even go through a phase or a noticeable time where I was playing a crap ton of hollywood undead, the same with iamjakehill. This is weird, even I didnt know what my most played music was. If I had to make a list having never seen these numbers, I would probably identify probably 10-12 listed which is insane.  "
   ]
  },
  {
   "cell_type": "markdown",
   "metadata": {},
   "source": [
    "### Hypothesis Testing"
   ]
  },
  {
   "cell_type": "markdown",
   "metadata": {},
   "source": [
    "Question: Did I listen to more songs on average during the winter months (9-2) or during the summer months (3-8))\n",
    "\n",
    "* Step 1: State the null and alternate hypothesis:\n",
    "    * $H_0$: $WinterAvg \\leq SummerAvg$\n",
    "    * $H_1$: $WinterAvg > SummerAvg$\n",
    "\n",
    "* Step 2: Select the level of significance:\n",
    "    * $\\alpha = 0.025$\n",
    "\n",
    "* Step 3: Select the appropriate test statistic:\n",
    "    * one sample --> ttest_1samp()\n",
    "    * $t=\\frac{\\overline{x} - \\mu}{s / \\sqrt{n}}$\n",
    "\n",
    "* Step 4: Formulate decision rule:\n",
    "    * First, let’s find the critical value:\n",
    "        * Since it's a one tailed test, go to Level of Significance for one-tailed test (alpha = 0.025) in the table. \n",
    "        * With df > 120 instances; we find t = 1.960\n",
    "        * If t-computed is > 1.960, then Reject $H_0$.\n",
    "        * If t-computed is <= 1.960, then Reject $H_1$."
   ]
  },
  {
   "cell_type": "code",
   "execution_count": 6,
   "metadata": {},
   "outputs": [
    {
     "name": "stdout",
     "output_type": "stream",
     "text": [
      "08     535\n",
      "10     942\n",
      "11     369\n",
      "12     461\n",
      "01    1268\n",
      "02    2484\n",
      "03    2312\n",
      "04    1662\n",
      "05     399\n",
      "06     477\n",
      "07     658\n",
      "09    1050\n",
      "Name: Month, dtype: int64\n"
     ]
    }
   ],
   "source": [
    "print(month_df)"
   ]
  },
  {
   "cell_type": "markdown",
   "metadata": {},
   "source": [
    "### Save spotify information to csv file"
   ]
  },
  {
   "cell_type": "code",
   "execution_count": null,
   "metadata": {},
   "outputs": [],
   "source": [
    "jack_df.to_csv(\"JackCleanedData.csv\")"
   ]
  }
 ],
 "metadata": {
  "kernelspec": {
   "display_name": "Python 3.9.12 ('base')",
   "language": "python",
   "name": "python3"
  },
  "language_info": {
   "codemirror_mode": {
    "name": "ipython",
    "version": 3
   },
   "file_extension": ".py",
   "mimetype": "text/x-python",
   "name": "python",
   "nbconvert_exporter": "python",
   "pygments_lexer": "ipython3",
   "version": "3.9.12"
  },
  "orig_nbformat": 4,
  "vscode": {
   "interpreter": {
    "hash": "f4b68a2f12ac3c1f7d7a15640bcdd128a30437ff541dca8628c60bf74e1bc7b4"
   }
  }
 },
 "nbformat": 4,
 "nbformat_minor": 2
}
